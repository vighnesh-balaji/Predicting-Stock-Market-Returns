{
 "cells": [
  {
   "cell_type": "code",
   "execution_count": 1,
   "id": "0d51e67c",
   "metadata": {},
   "outputs": [],
   "source": [
    "import pandas as pd\n",
    "import numpy as np\n",
    "import yfinance as yf"
   ]
  },
  {
   "cell_type": "code",
   "execution_count": 2,
   "id": "f275b00d",
   "metadata": {},
   "outputs": [
    {
     "name": "stdout",
     "output_type": "stream",
     "text": [
      "[*********************100%***********************]  1 of 1 completed\n"
     ]
    }
   ],
   "source": [
    "df_nse = yf.download('^NSEI', start='2010-01-01', end='2021-12-01').reset_index()"
   ]
  },
  {
   "cell_type": "code",
   "execution_count": 3,
   "id": "7ad52e9f",
   "metadata": {},
   "outputs": [
    {
     "name": "stdout",
     "output_type": "stream",
     "text": [
      "        Date         Open         High          Low        Close    Adj Close  \\\n",
      "0 2010-01-04  5200.899902  5238.450195  5167.100098  5232.200195  5232.200195   \n",
      "1 2010-01-05  5277.149902  5288.350098  5242.399902  5277.899902  5277.899902   \n",
      "2 2010-01-06  5278.149902  5310.850098  5260.049805  5281.799805  5281.799805   \n",
      "3 2010-01-07  5281.799805  5302.549805  5244.750000  5263.100098  5263.100098   \n",
      "4 2010-01-08  5264.250000  5276.750000  5234.700195  5244.750000  5244.750000   \n",
      "\n",
      "   Volume  \n",
      "0       0  \n",
      "1       0  \n",
      "2       0  \n",
      "3       0  \n",
      "4       0  \n"
     ]
    }
   ],
   "source": [
    "print(df_nse.head())"
   ]
  },
  {
   "cell_type": "code",
   "execution_count": 4,
   "id": "18fa17ca",
   "metadata": {},
   "outputs": [
    {
     "name": "stdout",
     "output_type": "stream",
     "text": [
      "<class 'pandas.core.frame.DataFrame'>\n"
     ]
    }
   ],
   "source": [
    "print(type(df_nse))"
   ]
  },
  {
   "cell_type": "code",
   "execution_count": 5,
   "id": "3fa78152",
   "metadata": {},
   "outputs": [
    {
     "name": "stdout",
     "output_type": "stream",
     "text": [
      "[*********************100%***********************]  1 of 1 completed\n"
     ]
    }
   ],
   "source": [
    "df_sp = yf.download('^GSPC', start='2010-01-01', end='2021-12-01').reset_index()"
   ]
  },
  {
   "cell_type": "code",
   "execution_count": 6,
   "id": "840ef7cc",
   "metadata": {},
   "outputs": [
    {
     "data": {
      "text/html": [
       "<div>\n",
       "<style scoped>\n",
       "    .dataframe tbody tr th:only-of-type {\n",
       "        vertical-align: middle;\n",
       "    }\n",
       "\n",
       "    .dataframe tbody tr th {\n",
       "        vertical-align: top;\n",
       "    }\n",
       "\n",
       "    .dataframe thead th {\n",
       "        text-align: right;\n",
       "    }\n",
       "</style>\n",
       "<table border=\"1\" class=\"dataframe\">\n",
       "  <thead>\n",
       "    <tr style=\"text-align: right;\">\n",
       "      <th></th>\n",
       "      <th>Date</th>\n",
       "      <th>return_today_sp</th>\n",
       "      <th>return_today_nse</th>\n",
       "      <th>return_1D</th>\n",
       "    </tr>\n",
       "  </thead>\n",
       "  <tbody>\n",
       "    <tr>\n",
       "      <th>0</th>\n",
       "      <td>2010-01-04</td>\n",
       "      <td>NaN</td>\n",
       "      <td>NaN</td>\n",
       "      <td>NaN</td>\n",
       "    </tr>\n",
       "    <tr>\n",
       "      <th>1</th>\n",
       "      <td>2010-01-05</td>\n",
       "      <td>0.003116</td>\n",
       "      <td>0.008734</td>\n",
       "      <td>NaN</td>\n",
       "    </tr>\n",
       "    <tr>\n",
       "      <th>2</th>\n",
       "      <td>2010-01-06</td>\n",
       "      <td>0.000546</td>\n",
       "      <td>0.000739</td>\n",
       "      <td>0.003116</td>\n",
       "    </tr>\n",
       "    <tr>\n",
       "      <th>3</th>\n",
       "      <td>2010-01-07</td>\n",
       "      <td>0.004001</td>\n",
       "      <td>-0.003540</td>\n",
       "      <td>0.000546</td>\n",
       "    </tr>\n",
       "    <tr>\n",
       "      <th>4</th>\n",
       "      <td>2010-01-08</td>\n",
       "      <td>0.002882</td>\n",
       "      <td>-0.003487</td>\n",
       "      <td>0.004001</td>\n",
       "    </tr>\n",
       "  </tbody>\n",
       "</table>\n",
       "</div>"
      ],
      "text/plain": [
       "        Date  return_today_sp  return_today_nse  return_1D\n",
       "0 2010-01-04              NaN               NaN        NaN\n",
       "1 2010-01-05         0.003116          0.008734        NaN\n",
       "2 2010-01-06         0.000546          0.000739   0.003116\n",
       "3 2010-01-07         0.004001         -0.003540   0.000546\n",
       "4 2010-01-08         0.002882         -0.003487   0.004001"
      ]
     },
     "execution_count": 6,
     "metadata": {},
     "output_type": "execute_result"
    }
   ],
   "source": [
    "df_returns = df_sp.copy()\n",
    "df_returns['return_today_sp'] = (df_returns['Adj Close']/df_returns['Adj Close'].shift(1)) - 1\n",
    "df_returns['return_today_nse'] = (df_nse['Adj Close']/df_nse['Adj Close'].shift(1)) - 1\n",
    "df_returns['return_1D'] = df_returns.return_today_sp.shift(1)\n",
    "# print(df_returns.head())\n",
    "df_returns = df_returns[['Date', 'return_today_sp','return_today_nse', 'return_1D']]\n",
    "# df_returns = df_returns[(df_returns.Date >= '2012-07-02')\n",
    "#                              & (df_returns.Date <= '2012-12-31')]\n",
    "df_returns.head()"
   ]
  },
  {
   "cell_type": "code",
   "execution_count": 7,
   "id": "6abeae37",
   "metadata": {},
   "outputs": [],
   "source": [
    "df_returns.dropna(inplace = True)"
   ]
  },
  {
   "cell_type": "code",
   "execution_count": 8,
   "id": "872565d4",
   "metadata": {},
   "outputs": [
    {
     "name": "stdout",
     "output_type": "stream",
     "text": [
      "           Date  return_today_sp  return_today_nse  return_1D\n",
      "2    2010-01-06         0.000546          0.000739   0.003116\n",
      "3    2010-01-07         0.004001         -0.003540   0.000546\n",
      "4    2010-01-08         0.002882         -0.003487   0.004001\n",
      "5    2010-01-11         0.001747          0.000887   0.002882\n",
      "6    2010-01-12        -0.009381         -0.007429   0.001747\n",
      "...         ...              ...               ...        ...\n",
      "2913 2021-07-30        -0.005406         -0.005045   0.004206\n",
      "2914 2021-08-02        -0.001843          0.006959  -0.005406\n",
      "2915 2021-08-03         0.008203         -0.029071  -0.001843\n",
      "2916 2021-08-04        -0.004632          0.001615   0.008203\n",
      "2917 2021-08-05         0.006005         -0.004149  -0.004632\n",
      "\n",
      "[2916 rows x 4 columns]\n"
     ]
    }
   ],
   "source": [
    "print(df_returns)"
   ]
  },
  {
   "cell_type": "code",
   "execution_count": 9,
   "id": "fc806f81",
   "metadata": {},
   "outputs": [
    {
     "data": {
      "text/html": [
       "<table class=\"simpletable\">\n",
       "<caption>OLS Regression Results</caption>\n",
       "<tr>\n",
       "  <th>Dep. Variable:</th>    <td>return_today_nse</td> <th>  R-squared:         </th>  <td>   0.000</td> \n",
       "</tr>\n",
       "<tr>\n",
       "  <th>Model:</th>                   <td>OLS</td>       <th>  Adj. R-squared:    </th>  <td>  -0.000</td> \n",
       "</tr>\n",
       "<tr>\n",
       "  <th>Method:</th>             <td>Least Squares</td>  <th>  F-statistic:       </th>  <td> 0.06993</td> \n",
       "</tr>\n",
       "<tr>\n",
       "  <th>Date:</th>             <td>Mon, 07 Nov 2022</td> <th>  Prob (F-statistic):</th>   <td> 0.791</td>  \n",
       "</tr>\n",
       "<tr>\n",
       "  <th>Time:</th>                 <td>20:58:49</td>     <th>  Log-Likelihood:    </th>  <td>  9024.3</td> \n",
       "</tr>\n",
       "<tr>\n",
       "  <th>No. Observations:</th>      <td>  2916</td>      <th>  AIC:               </th> <td>-1.804e+04</td>\n",
       "</tr>\n",
       "<tr>\n",
       "  <th>Df Residuals:</th>          <td>  2914</td>      <th>  BIC:               </th> <td>-1.803e+04</td>\n",
       "</tr>\n",
       "<tr>\n",
       "  <th>Df Model:</th>              <td>     1</td>      <th>                     </th>      <td> </td>    \n",
       "</tr>\n",
       "<tr>\n",
       "  <th>Covariance Type:</th>      <td>nonrobust</td>    <th>                     </th>      <td> </td>    \n",
       "</tr>\n",
       "</table>\n",
       "<table class=\"simpletable\">\n",
       "<tr>\n",
       "      <td></td>         <th>coef</th>     <th>std err</th>      <th>t</th>      <th>P>|t|</th>  <th>[0.025</th>    <th>0.975]</th>  \n",
       "</tr>\n",
       "<tr>\n",
       "  <th>Intercept</th> <td>    0.0005</td> <td>    0.000</td> <td>    2.282</td> <td> 0.023</td> <td> 6.54e-05</td> <td>    0.001</td>\n",
       "</tr>\n",
       "<tr>\n",
       "  <th>return_1D</th> <td>   -0.0049</td> <td>    0.019</td> <td>   -0.264</td> <td> 0.791</td> <td>   -0.041</td> <td>    0.032</td>\n",
       "</tr>\n",
       "</table>\n",
       "<table class=\"simpletable\">\n",
       "<tr>\n",
       "  <th>Omnibus:</th>       <td>782.157</td> <th>  Durbin-Watson:     </th> <td>   1.976</td> \n",
       "</tr>\n",
       "<tr>\n",
       "  <th>Prob(Omnibus):</th> <td> 0.000</td>  <th>  Jarque-Bera (JB):  </th> <td>18258.707</td>\n",
       "</tr>\n",
       "<tr>\n",
       "  <th>Skew:</th>          <td>-0.718</td>  <th>  Prob(JB):          </th> <td>    0.00</td> \n",
       "</tr>\n",
       "<tr>\n",
       "  <th>Kurtosis:</th>      <td>15.174</td>  <th>  Cond. No.          </th> <td>    91.8</td> \n",
       "</tr>\n",
       "</table><br/><br/>Notes:<br/>[1] Standard Errors assume that the covariance matrix of the errors is correctly specified."
      ],
      "text/plain": [
       "<class 'statsmodels.iolib.summary.Summary'>\n",
       "\"\"\"\n",
       "                            OLS Regression Results                            \n",
       "==============================================================================\n",
       "Dep. Variable:       return_today_nse   R-squared:                       0.000\n",
       "Model:                            OLS   Adj. R-squared:                 -0.000\n",
       "Method:                 Least Squares   F-statistic:                   0.06993\n",
       "Date:                Mon, 07 Nov 2022   Prob (F-statistic):              0.791\n",
       "Time:                        20:58:49   Log-Likelihood:                 9024.3\n",
       "No. Observations:                2916   AIC:                        -1.804e+04\n",
       "Df Residuals:                    2914   BIC:                        -1.803e+04\n",
       "Df Model:                           1                                         \n",
       "Covariance Type:            nonrobust                                         \n",
       "==============================================================================\n",
       "                 coef    std err          t      P>|t|      [0.025      0.975]\n",
       "------------------------------------------------------------------------------\n",
       "Intercept      0.0005      0.000      2.282      0.023    6.54e-05       0.001\n",
       "return_1D     -0.0049      0.019     -0.264      0.791      -0.041       0.032\n",
       "==============================================================================\n",
       "Omnibus:                      782.157   Durbin-Watson:                   1.976\n",
       "Prob(Omnibus):                  0.000   Jarque-Bera (JB):            18258.707\n",
       "Skew:                          -0.718   Prob(JB):                         0.00\n",
       "Kurtosis:                      15.174   Cond. No.                         91.8\n",
       "==============================================================================\n",
       "\n",
       "Notes:\n",
       "[1] Standard Errors assume that the covariance matrix of the errors is correctly specified.\n",
       "\"\"\""
      ]
     },
     "execution_count": 9,
     "metadata": {},
     "output_type": "execute_result"
    }
   ],
   "source": [
    "import statsmodels.formula.api as smf\n",
    "linear_1d = smf.ols('return_today_nse ~ return_1D', data=df_returns).fit()\n",
    "linear_1d.summary()"
   ]
  },
  {
   "cell_type": "code",
   "execution_count": 10,
   "id": "24ba7a53",
   "metadata": {},
   "outputs": [
    {
     "name": "stdout",
     "output_type": "stream",
     "text": [
      "[*********************100%***********************]  1 of 1 completed\n"
     ]
    }
   ],
   "source": [
    "df_nse_new = yf.download('^NSEI', start='2021-12-01', end='2022-11-01').reset_index()"
   ]
  },
  {
   "cell_type": "code",
   "execution_count": 11,
   "id": "2ae89f62",
   "metadata": {},
   "outputs": [
    {
     "name": "stdout",
     "output_type": "stream",
     "text": [
      "        Date          Open          High           Low         Close  \\\n",
      "0 2021-12-01  17104.400391  17213.050781  17064.250000  17166.900391   \n",
      "1 2021-12-02  17183.199219  17420.349609  17149.300781  17401.650391   \n",
      "2 2021-12-03  17424.900391  17489.800781  17180.800781  17196.699219   \n",
      "3 2021-12-06  17209.050781  17216.750000  16891.699219  16912.250000   \n",
      "4 2021-12-07  17044.099609  17251.650391  16987.750000  17176.699219   \n",
      "\n",
      "      Adj Close  Volume  \n",
      "0  17166.900391  295500  \n",
      "1  17401.650391  279900  \n",
      "2  17196.699219  292500  \n",
      "3  16912.250000  231700  \n",
      "4  17176.699219  254100  \n"
     ]
    }
   ],
   "source": [
    "print(df_nse_new.head())"
   ]
  },
  {
   "cell_type": "code",
   "execution_count": 12,
   "id": "26b64b8b",
   "metadata": {},
   "outputs": [],
   "source": [
    "aa = pd.DataFrame({'x':df_nse_new['Adj Close']/df_nse_new['Adj Close'].shift(1) - 1})"
   ]
  },
  {
   "cell_type": "code",
   "execution_count": 16,
   "id": "e33b31f7",
   "metadata": {},
   "outputs": [
    {
     "name": "stdout",
     "output_type": "stream",
     "text": [
      "<class 'pandas.core.frame.DataFrame'>\n",
      "          x\n",
      "0       NaN\n",
      "1  0.013675\n",
      "2 -0.011778\n",
      "3 -0.016541\n",
      "4  0.015637\n",
      "Index(['x'], dtype='object')\n"
     ]
    }
   ],
   "source": [
    "print(type(aa))\n",
    "print(aa.head())\n",
    "print(aa.columns)"
   ]
  },
  {
   "cell_type": "code",
   "execution_count": 14,
   "id": "d41a8ab3",
   "metadata": {},
   "outputs": [],
   "source": [
    "# aa.dropna(inplace=True)"
   ]
  },
  {
   "cell_type": "code",
   "execution_count": null,
   "id": "45e99acf",
   "metadata": {},
   "outputs": [],
   "source": [
    "# linear_1d.predict({\"return_1D\": aa[\"x\"]})"
   ]
  },
  {
   "cell_type": "code",
   "execution_count": 19,
   "id": "5b6bb8d0",
   "metadata": {},
   "outputs": [
    {
     "data": {
      "text/html": [
       "<div>\n",
       "<style scoped>\n",
       "    .dataframe tbody tr th:only-of-type {\n",
       "        vertical-align: middle;\n",
       "    }\n",
       "\n",
       "    .dataframe tbody tr th {\n",
       "        vertical-align: top;\n",
       "    }\n",
       "\n",
       "    .dataframe thead th {\n",
       "        text-align: right;\n",
       "    }\n",
       "</style>\n",
       "<table border=\"1\" class=\"dataframe\">\n",
       "  <thead>\n",
       "    <tr style=\"text-align: right;\">\n",
       "      <th></th>\n",
       "      <th>Date</th>\n",
       "      <th>Open</th>\n",
       "      <th>High</th>\n",
       "      <th>Low</th>\n",
       "      <th>Close</th>\n",
       "      <th>Adj Close</th>\n",
       "      <th>Volume</th>\n",
       "      <th>return_today</th>\n",
       "      <th>pred_return_today</th>\n",
       "      <th>decision_last_night</th>\n",
       "      <th>strategy_return</th>\n",
       "      <th>cumulative_return</th>\n",
       "    </tr>\n",
       "  </thead>\n",
       "  <tbody>\n",
       "    <tr>\n",
       "      <th>0</th>\n",
       "      <td>2021-12-01</td>\n",
       "      <td>17104.400391</td>\n",
       "      <td>17213.050781</td>\n",
       "      <td>17064.250000</td>\n",
       "      <td>17166.900391</td>\n",
       "      <td>17166.900391</td>\n",
       "      <td>295500</td>\n",
       "      <td>NaN</td>\n",
       "      <td>NaN</td>\n",
       "      <td>NaN</td>\n",
       "      <td>NaN</td>\n",
       "      <td>NaN</td>\n",
       "    </tr>\n",
       "    <tr>\n",
       "      <th>1</th>\n",
       "      <td>2021-12-02</td>\n",
       "      <td>17183.199219</td>\n",
       "      <td>17420.349609</td>\n",
       "      <td>17149.300781</td>\n",
       "      <td>17401.650391</td>\n",
       "      <td>17401.650391</td>\n",
       "      <td>279900</td>\n",
       "      <td>0.013675</td>\n",
       "      <td>0.000396</td>\n",
       "      <td>1.0</td>\n",
       "      <td>1.013675</td>\n",
       "      <td>1.013675</td>\n",
       "    </tr>\n",
       "    <tr>\n",
       "      <th>2</th>\n",
       "      <td>2021-12-03</td>\n",
       "      <td>17424.900391</td>\n",
       "      <td>17489.800781</td>\n",
       "      <td>17180.800781</td>\n",
       "      <td>17196.699219</td>\n",
       "      <td>17196.699219</td>\n",
       "      <td>292500</td>\n",
       "      <td>-0.011778</td>\n",
       "      <td>0.000522</td>\n",
       "      <td>1.0</td>\n",
       "      <td>0.988222</td>\n",
       "      <td>1.001736</td>\n",
       "    </tr>\n",
       "  </tbody>\n",
       "</table>\n",
       "</div>"
      ],
      "text/plain": [
       "        Date          Open          High           Low         Close  \\\n",
       "0 2021-12-01  17104.400391  17213.050781  17064.250000  17166.900391   \n",
       "1 2021-12-02  17183.199219  17420.349609  17149.300781  17401.650391   \n",
       "2 2021-12-03  17424.900391  17489.800781  17180.800781  17196.699219   \n",
       "\n",
       "      Adj Close  Volume  return_today  pred_return_today  decision_last_night  \\\n",
       "0  17166.900391  295500           NaN                NaN                  NaN   \n",
       "1  17401.650391  279900      0.013675           0.000396                  1.0   \n",
       "2  17196.699219  292500     -0.011778           0.000522                  1.0   \n",
       "\n",
       "   strategy_return  cumulative_return  \n",
       "0              NaN                NaN  \n",
       "1         1.013675           1.013675  \n",
       "2         0.988222           1.001736  "
      ]
     },
     "execution_count": 19,
     "metadata": {},
     "output_type": "execute_result"
    }
   ],
   "source": [
    "df_returns_1 = df_nse_new.copy()\n",
    "df_returns_1['return_today'] = (df_returns_1['Adj Close']/df_returns_1['Adj Close'].shift(1)) - 1\n",
    "df_returns_1['pred_return_today'] = linear_1d.predict({\"return_1D\": aa[\"x\"]})\n",
    "df_returns_1['decision_last_night'] = np.sign(df_returns_1.pred_return_today)\n",
    "df_returns_1['strategy_return'] =  1 + (df_returns_1.return_today * df_returns_1.decision_last_night)\n",
    "df_returns_1['cumulative_return'] = df_returns_1.strategy_return.cumprod()\n",
    "\n",
    "df_returns_1.head(3)"
   ]
  },
  {
   "cell_type": "code",
   "execution_count": 20,
   "id": "f15462e1",
   "metadata": {},
   "outputs": [
    {
     "name": "stdout",
     "output_type": "stream",
     "text": [
      "          Date          Open          High           Low         Close  \\\n",
      "223 2022-10-24  17736.349609  17777.550781  17707.400391  17730.750000   \n",
      "224 2022-10-25  17808.300781  17811.500000  17637.000000  17656.349609   \n",
      "225 2022-10-27  17771.400391  17783.900391  17654.500000  17736.949219   \n",
      "226 2022-10-28  17756.400391  17838.900391  17723.699219  17786.800781   \n",
      "227 2022-10-31  17910.199219  18022.800781  17899.900391  18012.199219   \n",
      "\n",
      "        Adj Close  Volume  return_today  pred_return_today  \\\n",
      "223  17730.750000   45000      0.008787           0.000421   \n",
      "224  17656.349609  251400     -0.004196           0.000485   \n",
      "225  17736.949219  324600      0.004565           0.000441   \n",
      "226  17786.800781  250000      0.002811           0.000450   \n",
      "227  18012.199219  227200      0.012672           0.000401   \n",
      "\n",
      "     decision_last_night  strategy_return  cumulative_return  \n",
      "223                  1.0         1.008787           1.032845  \n",
      "224                  1.0         0.995804           1.028511  \n",
      "225                  1.0         1.004565           1.033206  \n",
      "226                  1.0         1.002811           1.036110  \n",
      "227                  1.0         1.012672           1.049240  \n"
     ]
    }
   ],
   "source": [
    "print(df_returns_1.tail())"
   ]
  },
  {
   "cell_type": "code",
   "execution_count": null,
   "id": "926cbe0c",
   "metadata": {},
   "outputs": [],
   "source": []
  }
 ],
 "metadata": {
  "kernelspec": {
   "display_name": "Python 3 (ipykernel)",
   "language": "python",
   "name": "python3"
  },
  "language_info": {
   "codemirror_mode": {
    "name": "ipython",
    "version": 3
   },
   "file_extension": ".py",
   "mimetype": "text/x-python",
   "name": "python",
   "nbconvert_exporter": "python",
   "pygments_lexer": "ipython3",
   "version": "3.9.12"
  }
 },
 "nbformat": 4,
 "nbformat_minor": 5
}
